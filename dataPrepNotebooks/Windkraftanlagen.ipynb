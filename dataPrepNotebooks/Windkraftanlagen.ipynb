{
 "cells": [
  {
   "cell_type": "code",
   "execution_count": 1,
   "id": "da0a6a63-67bc-41b9-a843-f59093fea2c1",
   "metadata": {},
   "outputs": [],
   "source": [
    "import os\n",
    "import pandas as pd\n",
    "import json\n",
    "import requests\n",
    "import fiona\n",
    "from shapely.geometry import shape, mapping, Point, Polygon, MultiPolygon"
   ]
  },
  {
   "cell_type": "markdown",
   "id": "c704e729-bac0-48b8-8885-9c7596cfc3b7",
   "metadata": {},
   "source": [
    "## read data of Windkraftanlagen"
   ]
  },
  {
   "cell_type": "code",
   "execution_count": 2,
   "id": "aa622914-d225-48bf-b6fc-ee1712b38050",
   "metadata": {},
   "outputs": [
    {
     "name": "stdout",
     "output_type": "stream",
     "text": [
      "<class 'pandas.core.frame.DataFrame'>\n",
      "RangeIndex: 5208 entries, 0 to 5207\n",
      "Data columns (total 15 columns):\n",
      " #   Column                    Non-Null Count  Dtype  \n",
      "---  ------                    --------------  -----  \n",
      " 0   X                         5194 non-null   float64\n",
      " 1   Y                         5194 non-null   float64\n",
      " 2   FID                       5208 non-null   int64  \n",
      " 3   Bundesland                5208 non-null   object \n",
      " 4   Name                      5208 non-null   object \n",
      " 5   Baujahr                   4668 non-null   object \n",
      " 6   Gesamtleistung__MW_       2634 non-null   object \n",
      " 7   Anzahl                    2637 non-null   object \n",
      " 8   Typ__WKA_                 4569 non-null   object \n",
      " 9   Ort                       3248 non-null   object \n",
      " 10  Landkreis                 2683 non-null   object \n",
      " 11  Breitengrad               5194 non-null   float64\n",
      " 12  Längengrad                5194 non-null   float64\n",
      " 13  Projektierer___Betreiber  2210 non-null   object \n",
      " 14  Bemerkungen               736 non-null    object \n",
      "dtypes: float64(4), int64(1), object(10)\n",
      "memory usage: 610.4+ KB\n"
     ]
    }
   ],
   "source": [
    "Windanlagen = \"../data/Windkraftanlagen/_Onshore_Windkraftanlagen_in_Deutschland.csv\"\n",
    "df = pd.read_csv(Windanlagen)\n",
    "df.info()"
   ]
  },
  {
   "cell_type": "markdown",
   "id": "ea6101bb-500b-4ee2-996d-9b866da85767",
   "metadata": {},
   "source": [
    "## Prepare Data"
   ]
  },
  {
   "cell_type": "code",
   "execution_count": 3,
   "id": "361390d5-a428-42d3-ab6b-5a200315fd16",
   "metadata": {},
   "outputs": [],
   "source": [
    "#drop windparks without X and Y coordinates\n",
    "df.dropna(axis=0, subset=[\"X\", \"Y\"], inplace=True)\n",
    "\n",
    "unusefulCols = [\"Typ__WKA_\", \"Projektierer___Betreiber\", \"Bemerkungen\", \"Breitengrad\", \"Längengrad\", \"Landkreis\", \"Ort\"]\n",
    "df.drop(columns=unusefulCols, inplace=True)"
   ]
  },
  {
   "cell_type": "code",
   "execution_count": 4,
   "id": "4879e95a-7ba2-4ca4-b7ab-d5377f6b0335",
   "metadata": {},
   "outputs": [
    {
     "name": "stdout",
     "output_type": "stream",
     "text": [
      "<class 'pandas.core.frame.DataFrame'>\n",
      "Int64Index: 5194 entries, 0 to 5193\n",
      "Data columns (total 8 columns):\n",
      " #   Column               Non-Null Count  Dtype  \n",
      "---  ------               --------------  -----  \n",
      " 0   X                    5194 non-null   float64\n",
      " 1   Y                    5194 non-null   float64\n",
      " 2   FID                  5194 non-null   int64  \n",
      " 3   Bundesland           5194 non-null   object \n",
      " 4   Name                 5194 non-null   object \n",
      " 5   Baujahr              4654 non-null   object \n",
      " 6   Gesamtleistung__MW_  2621 non-null   object \n",
      " 7   Anzahl               2624 non-null   object \n",
      "dtypes: float64(2), int64(1), object(5)\n",
      "memory usage: 365.2+ KB\n"
     ]
    }
   ],
   "source": [
    "df.info()"
   ]
  },
  {
   "cell_type": "code",
   "execution_count": 5,
   "id": "fbd66603-77da-4daf-a465-d0132df76fb0",
   "metadata": {},
   "outputs": [],
   "source": [
    "#convert Anzahl, Baujahr and Gesamtleistung to floats\n",
    "for exp in [\"unklar\", \"9[36]\", \"5[51]\"]:\n",
    "    df.Anzahl.replace({exp:None}, inplace=True)\n",
    "for key, value in {\"2013–2014[33]\":2014, \"2015–2017\":2017, \"1990–1991\":1991, \"2017–2018\":2018, \"1994–1995\":1995, \"2015/2016\":2016, \"1997-2001\":2001, \"2013/2017–2018\":2018, \"2002 2005\":2005, \"2005-2006\":2006, \"2005-2007\":2007, \"2004-2005\":2005, \"2016–2017\":2017, \"2002–2003\":2003, \"2008-2010\":2010, \"2015–2016\":2016,\"2012–2013\":2013, \"2004–2005\":2005, \"2010–2011\":2011, \"2007–2008\":2008, \"2017-2018\":2018, \"1999–2001\":2001, \"2003–2004\":2004, \"1997–1998\":1998, \"2001–2002\":2002, \"1996–1997\":1997, \"2011–2012\":2012, \"1999–2000\":2000, \"1998–1999\":1999, \"2010–2016\":2016, \"2008–2009\":2009, \"2014–2015\":2015, \"2005–2006\": 2006, \"2009–2010\":2010, \"2006–2007\":2007, \"2000–2001\":2001, \"2013–2014\":2014}.items():\n",
    "    df.Baujahr.replace({key:value}, inplace=True)\n",
    "\n",
    "df.Gesamtleistung__MW_ = df.Gesamtleistung__MW_.str.replace(',','.')\n",
    "for key, value in {\"35,45\":80, \"unklar\":None, \"27.0[34][35]\":27}.items():\n",
    "    df.Gesamtleistung__MW_.replace({key:value}, inplace=True)  \n",
    "\n",
    "df = df.astype({\"Anzahl\":float, \"Baujahr\":float, \"Gesamtleistung__MW_\":float})"
   ]
  },
  {
   "cell_type": "code",
   "execution_count": 6,
   "id": "2ae91e16-0281-41e2-a8e6-1adc97bfbf07",
   "metadata": {},
   "outputs": [
    {
     "data": {
      "text/html": [
       "<div>\n",
       "<style scoped>\n",
       "    .dataframe tbody tr th:only-of-type {\n",
       "        vertical-align: middle;\n",
       "    }\n",
       "\n",
       "    .dataframe tbody tr th {\n",
       "        vertical-align: top;\n",
       "    }\n",
       "\n",
       "    .dataframe thead th {\n",
       "        text-align: right;\n",
       "    }\n",
       "</style>\n",
       "<table border=\"1\" class=\"dataframe\">\n",
       "  <thead>\n",
       "    <tr style=\"text-align: right;\">\n",
       "      <th></th>\n",
       "      <th>X</th>\n",
       "      <th>Y</th>\n",
       "      <th>FID</th>\n",
       "      <th>Bundesland</th>\n",
       "      <th>Name</th>\n",
       "      <th>Baujahr</th>\n",
       "      <th>Gesamtleistung__MW_</th>\n",
       "      <th>Anzahl</th>\n",
       "    </tr>\n",
       "  </thead>\n",
       "  <tbody>\n",
       "    <tr>\n",
       "      <th>0</th>\n",
       "      <td>8.961806</td>\n",
       "      <td>54.895278</td>\n",
       "      <td>1</td>\n",
       "      <td>Schleswig-Holstein</td>\n",
       "      <td>Windpark Ellhöft-Westre</td>\n",
       "      <td>2000.0</td>\n",
       "      <td>35.45</td>\n",
       "      <td>13.0</td>\n",
       "    </tr>\n",
       "    <tr>\n",
       "      <th>1</th>\n",
       "      <td>8.961806</td>\n",
       "      <td>54.895278</td>\n",
       "      <td>2</td>\n",
       "      <td>Schleswig-Holstein</td>\n",
       "      <td>Windpark Ellhöft-Westre</td>\n",
       "      <td>2007.0</td>\n",
       "      <td>NaN</td>\n",
       "      <td>NaN</td>\n",
       "    </tr>\n",
       "    <tr>\n",
       "      <th>2</th>\n",
       "      <td>8.961806</td>\n",
       "      <td>54.895278</td>\n",
       "      <td>3</td>\n",
       "      <td>Schleswig-Holstein</td>\n",
       "      <td>Windpark Ellhöft-Westre</td>\n",
       "      <td>2009.0</td>\n",
       "      <td>NaN</td>\n",
       "      <td>NaN</td>\n",
       "    </tr>\n",
       "    <tr>\n",
       "      <th>3</th>\n",
       "      <td>8.641111</td>\n",
       "      <td>54.858611</td>\n",
       "      <td>4</td>\n",
       "      <td>Schleswig-Holstein</td>\n",
       "      <td>Windpark Friedrich-Wilhelm-Lübke-Koog[10]</td>\n",
       "      <td>1990.0</td>\n",
       "      <td>71.50</td>\n",
       "      <td>34.0</td>\n",
       "    </tr>\n",
       "    <tr>\n",
       "      <th>4</th>\n",
       "      <td>8.641111</td>\n",
       "      <td>54.858611</td>\n",
       "      <td>5</td>\n",
       "      <td>Schleswig-Holstein</td>\n",
       "      <td>Windpark Friedrich-Wilhelm-Lübke-Koog[10]</td>\n",
       "      <td>1998.0</td>\n",
       "      <td>NaN</td>\n",
       "      <td>NaN</td>\n",
       "    </tr>\n",
       "  </tbody>\n",
       "</table>\n",
       "</div>"
      ],
      "text/plain": [
       "          X          Y  FID          Bundesland  \\\n",
       "0  8.961806  54.895278    1  Schleswig-Holstein   \n",
       "1  8.961806  54.895278    2  Schleswig-Holstein   \n",
       "2  8.961806  54.895278    3  Schleswig-Holstein   \n",
       "3  8.641111  54.858611    4  Schleswig-Holstein   \n",
       "4  8.641111  54.858611    5  Schleswig-Holstein   \n",
       "\n",
       "                                        Name  Baujahr  Gesamtleistung__MW_  \\\n",
       "0                    Windpark Ellhöft-Westre   2000.0                35.45   \n",
       "1                    Windpark Ellhöft-Westre   2007.0                  NaN   \n",
       "2                    Windpark Ellhöft-Westre   2009.0                  NaN   \n",
       "3  Windpark Friedrich-Wilhelm-Lübke-Koog[10]   1990.0                71.50   \n",
       "4  Windpark Friedrich-Wilhelm-Lübke-Koog[10]   1998.0                  NaN   \n",
       "\n",
       "   Anzahl  \n",
       "0    13.0  \n",
       "1     NaN  \n",
       "2     NaN  \n",
       "3    34.0  \n",
       "4     NaN  "
      ]
     },
     "execution_count": 6,
     "metadata": {},
     "output_type": "execute_result"
    }
   ],
   "source": [
    "df.head()"
   ]
  },
  {
   "cell_type": "markdown",
   "id": "b03f6b29-9a56-4077-b22f-ecad9a252c0f",
   "metadata": {},
   "source": [
    "## Remove rows with duplicate locations values"
   ]
  },
  {
   "cell_type": "code",
   "execution_count": 7,
   "id": "679bf5a8-298d-4567-8670-dd36286f17b7",
   "metadata": {},
   "outputs": [],
   "source": [
    "#create string with X and Y coordinates\n",
    "df[\"loc\"]= df.Y.astype(str)+ \", \"+ df.X.astype(str)"
   ]
  },
  {
   "cell_type": "code",
   "execution_count": 8,
   "id": "517e1a91-92ed-4039-bc73-866d388c0fb3",
   "metadata": {},
   "outputs": [],
   "source": [
    "#create new data frame with the combined values for each location\n",
    "ndf = None\n",
    "for x in df[\"loc\"].unique():\n",
    "    #print(x,y)\n",
    "    df1 = df[(df[\"loc\"]==x)]\n",
    "    #print(len(df1))\n",
    "    if len(df1) > 1:\n",
    "        #combine the values\n",
    "        anzahl = df1.Anzahl.sum()\n",
    "        leistung = df1.Gesamtleistung__MW_.sum()\n",
    "        baujahr = max(df1.Baujahr.to_list())\n",
    "        \n",
    "        #remove duplicates and set new values\n",
    "        df1 = df1.drop_duplicates(subset=[\"loc\"])\n",
    "        df1[\"Baujahr\"] = baujahr\n",
    "        df1.Gesamtleistung__MW_ = leistung\n",
    "        df1.Anzahl = anzahl\n",
    "        \n",
    "        #add new entry to ndf\n",
    "        if ndf is None:\n",
    "            ndf = df1\n",
    "        else:\n",
    "            ndf = ndf.append(df1)\n",
    "    else:\n",
    "        if ndf is None:\n",
    "            ndf = df1\n",
    "        else:\n",
    "            ndf = ndf.append(df1)"
   ]
  },
  {
   "cell_type": "code",
   "execution_count": 9,
   "id": "97eea0c1-e45b-492e-9ff3-65e6a9852c0e",
   "metadata": {},
   "outputs": [],
   "source": [
    "del df, df1\n",
    "ndf = ndf.reset_index()\n",
    "ndf.to_csv(\"../prepData/Windkraftanlagen.csv\", index=False)"
   ]
  }
 ],
 "metadata": {
  "kernelspec": {
   "display_name": "Python 3 (ipykernel)",
   "language": "python",
   "name": "python3"
  },
  "language_info": {
   "codemirror_mode": {
    "name": "ipython",
    "version": 3
   },
   "file_extension": ".py",
   "mimetype": "text/x-python",
   "name": "python",
   "nbconvert_exporter": "python",
   "pygments_lexer": "ipython3",
   "version": "3.7.10"
  }
 },
 "nbformat": 4,
 "nbformat_minor": 5
}
