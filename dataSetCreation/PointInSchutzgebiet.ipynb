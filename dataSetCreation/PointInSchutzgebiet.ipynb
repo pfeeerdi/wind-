{
 "cells": [
  {
   "cell_type": "code",
   "execution_count": 1,
   "id": "fa6aba0a-1586-4cf8-8ce4-5b4b0cb8c408",
   "metadata": {},
   "outputs": [],
   "source": [
    "import os\n",
    "import pandas as pd\n",
    "import json\n",
    "import requests\n",
    "import fiona\n",
    "from shapely.geometry import shape, mapping, Point, Polygon, MultiPolygon\n",
    "import pyproj\n",
    "import math"
   ]
  },
  {
   "cell_type": "code",
   "execution_count": 2,
   "id": "1991c16f-1a91-4e21-8967-a695506f6e95",
   "metadata": {},
   "outputs": [],
   "source": [
    "def PointInPoly(point, geojsonPath):\n",
    "    multipol = fiona.open(geojsonPath)\n",
    "    for multi in multipol:\n",
    "        if Point(point).within(shape(multi['geometry'])):\n",
    "            return True\n",
    "    return False "
   ]
  },
  {
   "cell_type": "code",
   "execution_count": 42,
   "id": "8e7c43ff-f3fc-4b98-b2aa-4daf50f459c1",
   "metadata": {},
   "outputs": [],
   "source": [
    "def PointInSchutzgebiet(a): #returns a vector with 1 as in area and 0 as in not in area\n",
    "    point = LatLon_To_XY(a[1], a[0])\n",
    "    path = \"../data/Schutzgebiete/\"\n",
    "    files = [\"../data/Schutzgebiete/\"+f for f in os.listdir(path) if f[-4:]==\"json\"]\n",
    "    #print([file.split(\"/\")[-1] for file in files])\n",
    "    res = [i for i in range(len(files))]\n",
    "    for i, geojsonPath in enumerate(files):\n",
    "        #print(f\"Scanning {geojsonPath}\")\n",
    "        if PointInPoly(point, geojsonPath):\n",
    "            res[i]=1\n",
    "        else:\n",
    "            res[i]=0\n",
    "    return res      "
   ]
  },
  {
   "cell_type": "code",
   "execution_count": 48,
   "id": "f79452a2-eefa-4e1e-8a6b-bb0a6f28ee55",
   "metadata": {},
   "outputs": [],
   "source": [
    "def convertResVecToDict(res):\n",
    "    columns = [\"Naturmonumente\", \"Nationalparke\", \"Vogelschutzgebiet\", \"Landschaftsschutzgebiete\", \"Naturschutzgebiete\", \"Biosphaerenreservate\"]\n",
    "    dictRes = {}\n",
    "    for i in range(len(columns)):\n",
    "        dictRes[columns[i]] = res[i]\n",
    "    return dictRes"
   ]
  },
  {
   "cell_type": "code",
   "execution_count": 43,
   "id": "627f1c2c-6ea8-4c1f-bebf-309b6efa9b75",
   "metadata": {},
   "outputs": [],
   "source": [
    "P = pyproj.Proj(proj='utm', zone=31, ellps='WGS84', preserve_units=True)\n",
    "G = pyproj.Geod(ellps='WGS84')\n",
    "\n",
    "def LatLon_To_XY(Lat,Lon):\n",
    "    return P(Lat,Lon)\n",
    "\n",
    "def XY_To_LatLon(x,y):\n",
    "    return P(x,y,inverse=True)   "
   ]
  },
  {
   "cell_type": "code",
   "execution_count": 44,
   "id": "2933e29e-fab0-4c22-acda-00dd85c3eb42",
   "metadata": {},
   "outputs": [],
   "source": [
    "a = (52.18313210156813, 7.77967558018079)"
   ]
  },
  {
   "cell_type": "code",
   "execution_count": 45,
   "id": "e53b6e07-fd06-492d-8f44-4cb5b3ce1a95",
   "metadata": {},
   "outputs": [],
   "source": [
    "#Naturmonumente, Nationalparke, Vogelschutzgebiet, Landschaftsschutzgebiete, Naturschutzgebiete, Biosphaerenreservate\n",
    "res = PointInSchutzgebiet(a) "
   ]
  },
  {
   "cell_type": "code",
   "execution_count": 49,
   "id": "4c9ce3b8-afbf-461a-b4fd-32ad8c4c7b5a",
   "metadata": {},
   "outputs": [
    {
     "data": {
      "text/plain": [
       "{'Naturmonumente': 0,\n",
       " 'Nationalparke': 0,\n",
       " 'Vogelschutzgebiet': 0,\n",
       " 'Landschaftsschutzgebiete': 1,\n",
       " 'Naturschutzgebiete': 1,\n",
       " 'Biosphaerenreservate': 0}"
      ]
     },
     "execution_count": 49,
     "metadata": {},
     "output_type": "execute_result"
    }
   ],
   "source": [
    "convertResVecToDict(res)"
   ]
  },
  {
   "cell_type": "code",
   "execution_count": null,
   "id": "398e4880-507e-4886-8a4f-fb5690027641",
   "metadata": {},
   "outputs": [],
   "source": []
  }
 ],
 "metadata": {
  "kernelspec": {
   "display_name": "Python 3 (ipykernel)",
   "language": "python",
   "name": "python3"
  },
  "language_info": {
   "codemirror_mode": {
    "name": "ipython",
    "version": 3
   },
   "file_extension": ".py",
   "mimetype": "text/x-python",
   "name": "python",
   "nbconvert_exporter": "python",
   "pygments_lexer": "ipython3",
   "version": "3.7.10"
  }
 },
 "nbformat": 4,
 "nbformat_minor": 5
}
