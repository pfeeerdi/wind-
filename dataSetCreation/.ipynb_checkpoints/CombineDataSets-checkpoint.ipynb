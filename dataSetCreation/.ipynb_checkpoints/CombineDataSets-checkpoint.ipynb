{
 "cells": [
  {
   "cell_type": "code",
   "execution_count": 1,
   "id": "3f3c5e8a-053f-4607-9868-4c0f86f9cb93",
   "metadata": {},
   "outputs": [],
   "source": [
    "import pandas as pd"
   ]
  },
  {
   "cell_type": "code",
   "execution_count": 2,
   "id": "d8c64a4e-e09f-4cc6-ba6f-ddcc614c83c2",
   "metadata": {},
   "outputs": [],
   "source": [
    "df1 = pd.read_csv(\"WindkraftData.csv\")\n",
    "df2 = pd.read_csv(\"WindkraftDataNo.csv\")"
   ]
  },
  {
   "cell_type": "code",
   "execution_count": 3,
   "id": "791245ad-b451-4262-b059-bf3d80abc123",
   "metadata": {},
   "outputs": [],
   "source": [
    "df = pd.concat([df1, df2], ignore_index=True)"
   ]
  },
  {
   "cell_type": "code",
   "execution_count": 4,
   "id": "c8df2343-ef36-45b4-a151-169e5204d595",
   "metadata": {},
   "outputs": [],
   "source": [
    "df.to_csv(\"../finalData/FinalWindkraftDataSet.csv\", index=False)"
   ]
  }
 ],
 "metadata": {
  "kernelspec": {
   "display_name": "Python 3 (ipykernel)",
   "language": "python",
   "name": "python3"
  },
  "language_info": {
   "codemirror_mode": {
    "name": "ipython",
    "version": 3
   },
   "file_extension": ".py",
   "mimetype": "text/x-python",
   "name": "python",
   "nbconvert_exporter": "python",
   "pygments_lexer": "ipython3",
   "version": "3.7.10"
  }
 },
 "nbformat": 4,
 "nbformat_minor": 5
}
