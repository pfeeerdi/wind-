{
 "cells": [
  {
   "cell_type": "code",
   "execution_count": 41,
   "id": "9e622a73-232b-40f5-a144-ce9a2734543c",
   "metadata": {},
   "outputs": [],
   "source": [
    "import json\n",
    "import requests\n",
    "\n",
    "def getBenachbarteTags(point):\n",
    "    x, y = point\n",
    "    #benachbarte Objekte\n",
    "    data = f\"data=%5Btimeout%3A10%5D%5Bout%3Ajson%5D%3B(node(around%3A50%2C{x}%2C{y})%3Bway(around%3A50%2C{x}%2C{y})%3B)%3Bout+tags+geom({x-0.01}%2C{y-0.01}%2C{x+0.01}%2C{y+0.01})%3Brelation(around%3A50%2C{x}%2C{y})%3Bout+geom({x-0.01}%2C{y-0.01}%2C{x+0.01}%2C{y+0.01})%3B\"\n",
    "    response = requests.post('https://query.openstreetmap.org/query-features', data=data)\n",
    "    res = json.loads(response.text)\n",
    "    features = {}\n",
    "    #return res\n",
    "    for entry in res[\"elements\"]:\n",
    "        a = entry.get(\"tags\")\n",
    "        if a:\n",
    "            for key, value in a.items():\n",
    "                if \"name\" not in key:\n",
    "                    features.update({key:value})\n",
    "    return features\n",
    "\n",
    "def getUnmschließendeTags(point):\n",
    "    x, y = point\n",
    "    #unmschließendes Objekte\n",
    "    data = f\"data=%5Btimeout%3A10%5D%5Bout%3Ajson%5D%3Bis_in({x}%2C{y})-%3E.a%3Bway(pivot.a)%3Bout+tags+bb%3Bout+ids+geom({x}%2C{y}%2C{x}%2C{y})%3Brelation(pivot.a)%3Bout+tags+bb%3B\"\n",
    "    response = requests.post('https://query.openstreetmap.org/query-features', data=data)\n",
    "    res = json.loads(response.text)\n",
    "    features = {}\n",
    "    #return res\n",
    "    for entry in res[\"elements\"]:\n",
    "        a = entry.get(\"tags\")\n",
    "        if a:\n",
    "            for key, value in a.items():\n",
    "                if \"name\" not in key:\n",
    "                    features.update({key:value})\n",
    "    return features\n",
    "\n",
    "def getDistancedPointInfo(point):\n",
    "    x, y = point\n",
    "    data = f\"https://nominatim.openstreetmap.org/search.php?q={x}%2C{y}&polygon_geojson=1&format=jsonv2\"\n",
    "    response = requests.get(data)\n",
    "    res = json.loads(response.text)[0]\n",
    "    features = {}\n",
    "    #return res\n",
    "    features[\"category\"] = res.get(\"category\")\n",
    "    features[\"type\"] = res.get(\"type\")\n",
    "    return features"
   ]
  },
  {
   "cell_type": "code",
   "execution_count": 37,
   "id": "8f18c1e9-4e31-42d9-b73e-ecd5a107f522",
   "metadata": {},
   "outputs": [],
   "source": [
    "point=(54.1889,9.0976)\n",
    "res = getBenachbarteTags(point)\n",
    "res1 = getUnmschließendeTags(point)\n",
    "res2 = getDistancedPointInfo(point)"
   ]
  },
  {
   "cell_type": "code",
   "execution_count": 38,
   "id": "ef6a000a-51ff-41a4-8bfb-186ab94798fd",
   "metadata": {},
   "outputs": [
    {
     "data": {
      "text/plain": [
       "{'crossing': 'traffic_signals',\n",
       " 'highway': 'living_street',\n",
       " 'cycleway:right': 'track',\n",
       " 'maxspeed': '50',\n",
       " 'source:maxspeed': 'DE:urban',\n",
       " 'surface': 'paving_stones',\n",
       " 'hgv': 'delivery',\n",
       " 'lanes': '2',\n",
       " 'traffic_sign': 'DE:253,DE:1026-35',\n",
       " 'addr:city': 'Heide',\n",
       " 'addr:housenumber': '46',\n",
       " 'addr:postcode': '25746',\n",
       " 'addr:street': 'Kreuzstraße',\n",
       " 'building': 'yes',\n",
       " 'type': 'route',\n",
       " 'from': 'Süderholm, Schule',\n",
       " 'network': 'NAH.SH',\n",
       " 'operator': 'Autokraft',\n",
       " 'public_transport:version': '2',\n",
       " 'ref': '2902',\n",
       " 'route': 'bus',\n",
       " 'to': 'Heide, Famila',\n",
       " 'via': 'Heide, Bahnhof',\n",
       " 'network:wikidata': 'Q15825147',\n",
       " 'network:wikipedia': 'de:Nahverkehrsverbund Schleswig-Holstein'}"
      ]
     },
     "execution_count": 38,
     "metadata": {},
     "output_type": "execute_result"
    }
   ],
   "source": [
    "res"
   ]
  },
  {
   "cell_type": "code",
   "execution_count": 39,
   "id": "542c10e2-7845-4223-ad99-65a5c642cbc6",
   "metadata": {},
   "outputs": [
    {
     "data": {
      "text/plain": [
       "{'admin_level': '8',\n",
       " 'boundary': 'political',\n",
       " 'de:amtlicher_gemeindeschluessel': '01051044',\n",
       " 'de:regionalschluessel': '010510044044',\n",
       " 'license_plate_code': 'HEI',\n",
       " 'note': '25746 Heide u.a.',\n",
       " 'ref:nuts:3': 'DEF05',\n",
       " 'type': 'multipolygon',\n",
       " 'wikidata': 'Q111224',\n",
       " 'wikipedia': 'de:Holstein',\n",
       " 'ISO3166-1': 'DE',\n",
       " 'ISO3166-1:alpha2': 'DE',\n",
       " 'ISO3166-1:alpha3': 'DEU',\n",
       " 'ISO3166-1:numeric': '276',\n",
       " 'TMC:cid_58:tabcd_1:Class': 'Area',\n",
       " 'TMC:cid_58:tabcd_1:LCLversion': '12.0',\n",
       " 'TMC:cid_58:tabcd_1:LocationCode': '1469',\n",
       " 'border_type': 'state',\n",
       " 'currency': 'EUR',\n",
       " 'default_language': 'de',\n",
       " 'flag': 'http://upload.wikimedia.org/wikipedia/commons/b/ba/Flag_of_Germany.svg',\n",
       " 'note:2': 'see relation id:62781 for the landmass only (multipolygon, not boundary)',\n",
       " 'timezone': 'Europe/Berlin',\n",
       " 'ISO3166-2': 'DE-SH',\n",
       " 'ref': '2',\n",
       " 'ref:nuts:1': 'DEF',\n",
       " 'ref:nuts:2': 'DEF0',\n",
       " 'description': 'Schleswig-Holstein (Landmasse)',\n",
       " 'land_area': 'administrative',\n",
       " 'place': 'region',\n",
       " 'source': 'http://wiki.openstreetmap.org/wiki/Import/Catalogue/Kreisgrenzen_Deutschland_2005',\n",
       " 'description:de': 'Schleswig-Holstein (Landmasse)',\n",
       " 'description:fr': 'Schleswig-Holstein (terres)',\n",
       " 'description:lv': 'Šlēsviga-Holšteina',\n",
       " 'description:pl': 'Szlezwik-Holsztyn (ląd)',\n",
       " 'description:sk': 'Šlezvicko-Holštajnsko',\n",
       " 'description:sr': 'Шлезвиг-Холштајн',\n",
       " 'note:TMC': 'Grenze am damm geschlossen, damit der ring geschlossen ist.',\n",
       " 'population': '21105',\n",
       " 'postal_code': '25746',\n",
       " 'postal_code_level': '8',\n",
       " 'election:parliament': 'Deutscher Bundestag',\n",
       " 'election:part': 'Wahlkreis',\n",
       " 'election:year': '2017',\n",
       " 'election:years:past': '2017;2013;2009;2005;2002;1998;1994;1990;1987;1983;1980;1976;1972',\n",
       " 'members': 'Kreis Nordfriesland;Büsum-Wesselbüren;Eider;Heider Umland;Heide',\n",
       " 'political': 'election',\n",
       " 'natural': 'peninsula'}"
      ]
     },
     "execution_count": 39,
     "metadata": {},
     "output_type": "execute_result"
    }
   ],
   "source": [
    "res1"
   ]
  },
  {
   "cell_type": "code",
   "execution_count": 40,
   "id": "96e72bb7-9cee-45a6-b1bd-576cc2a1de50",
   "metadata": {},
   "outputs": [
    {
     "data": {
      "text/plain": [
       "{'category': 'building', 'type': 'yes'}"
      ]
     },
     "execution_count": 40,
     "metadata": {},
     "output_type": "execute_result"
    }
   ],
   "source": [
    "res2"
   ]
  },
  {
   "cell_type": "code",
   "execution_count": null,
   "id": "fe8d039b-6289-4fa4-8c47-13be9e3828b3",
   "metadata": {},
   "outputs": [],
   "source": []
  }
 ],
 "metadata": {
  "kernelspec": {
   "display_name": "Python 3 (ipykernel)",
   "language": "python",
   "name": "python3"
  },
  "language_info": {
   "codemirror_mode": {
    "name": "ipython",
    "version": 3
   },
   "file_extension": ".py",
   "mimetype": "text/x-python",
   "name": "python",
   "nbconvert_exporter": "python",
   "pygments_lexer": "ipython3",
   "version": "3.7.10"
  }
 },
 "nbformat": 4,
 "nbformat_minor": 5
}
